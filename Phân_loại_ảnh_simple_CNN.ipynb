{
  "nbformat": 4,
  "nbformat_minor": 0,
  "metadata": {
    "colab": {
      "name": "Phân loại ảnh- simple CNN.ipynb",
      "provenance": [],
      "collapsed_sections": [],
      "machine_shape": "hm",
      "include_colab_link": true
    },
    "kernelspec": {
      "name": "python3",
      "display_name": "Python 3"
    },
    "language_info": {
      "name": "python"
    },
    "accelerator": "GPU"
  },
  "cells": [
    {
      "cell_type": "markdown",
      "metadata": {
        "id": "view-in-github",
        "colab_type": "text"
      },
      "source": [
        "<a href=\"https://colab.research.google.com/github/NDDV/Picture-Detected-with-Simple-CNN/blob/main/Ph%C3%A2n_lo%E1%BA%A1i_%E1%BA%A3nh_simple_CNN.ipynb\" target=\"_parent\"><img src=\"https://colab.research.google.com/assets/colab-badge.svg\" alt=\"Open In Colab\"/></a>"
      ]
    },
    {
      "cell_type": "code",
      "source": [
        "from google.colab import drive\n",
        "drive.mount('/content/drive')"
      ],
      "metadata": {
        "colab": {
          "base_uri": "https://localhost:8080/"
        },
        "id": "VqodyDLMR3LS",
        "outputId": "40078a12-5156-4f24-db46-22b951996ce6"
      },
      "execution_count": null,
      "outputs": [
        {
          "output_type": "stream",
          "name": "stdout",
          "text": [
            "Mounted at /content/drive\n"
          ]
        }
      ]
    },
    {
      "cell_type": "code",
      "execution_count": null,
      "metadata": {
        "id": "G0YHSKslRabL"
      },
      "outputs": [],
      "source": [
        "import numpy as np\n",
        "import matplotlib.pyplot as plt\n",
        "from tensorflow import keras"
      ]
    },
    {
      "cell_type": "code",
      "source": [
        "(x_train, y_train), (x_test, y_test) = keras.datasets.cifar10.load_data()\n",
        "print(len(x_train),\"\\n\",len(y_train),\"\\n\",len(x_test),\"\\n\",len(y_test))"
      ],
      "metadata": {
        "colab": {
          "base_uri": "https://localhost:8080/"
        },
        "id": "peWLthOKSdPh",
        "outputId": "96b7bf0f-9bbb-4bc4-c10d-151303e0bc4a"
      },
      "execution_count": null,
      "outputs": [
        {
          "output_type": "stream",
          "name": "stdout",
          "text": [
            "Downloading data from https://www.cs.toronto.edu/~kriz/cifar-10-python.tar.gz\n",
            "170500096/170498071 [==============================] - 11s 0us/step\n",
            "170508288/170498071 [==============================] - 11s 0us/step\n",
            "50000 \n",
            " 50000 \n",
            " 10000 \n",
            " 10000\n"
          ]
        }
      ]
    },
    {
      "cell_type": "code",
      "source": [
        "X_val, Y_val = x_train[40000:50000], y_train[40000:50000]\n",
        "X_train, Y_train = x_train[:40000], y_train[:40000]\n",
        "print(len(X_train),\"\\n\",len(Y_train),\"\\n\",len(X_val),\"\\n\",len(Y_val))"
      ],
      "metadata": {
        "colab": {
          "base_uri": "https://localhost:8080/"
        },
        "id": "qWPUSNQcVR4T",
        "outputId": "d2de37fb-1c08-426f-c446-ac984fa86392"
      },
      "execution_count": null,
      "outputs": [
        {
          "output_type": "stream",
          "name": "stdout",
          "text": [
            "40000 \n",
            " 40000 \n",
            " 10000 \n",
            " 10000\n"
          ]
        }
      ]
    },
    {
      "cell_type": "code",
      "source": [
        "print(X_train.shape)"
      ],
      "metadata": {
        "colab": {
          "base_uri": "https://localhost:8080/"
        },
        "id": "OHsGu8tDWyDj",
        "outputId": "6db32b99-bb09-4f8c-9d89-60057071385c"
      },
      "execution_count": null,
      "outputs": [
        {
          "output_type": "stream",
          "name": "stdout",
          "text": [
            "(40000, 32, 32, 3)\n"
          ]
        }
      ]
    },
    {
      "cell_type": "code",
      "source": [
        "X_val.shape"
      ],
      "metadata": {
        "colab": {
          "base_uri": "https://localhost:8080/"
        },
        "id": "VuPbbZMHekIv",
        "outputId": "87f134c3-f624-4e16-8697-03a90fe210a6"
      },
      "execution_count": null,
      "outputs": [
        {
          "output_type": "execute_result",
          "data": {
            "text/plain": [
              "(10000, 32, 32, 3)"
            ]
          },
          "metadata": {},
          "execution_count": 5
        }
      ]
    },
    {
      "cell_type": "code",
      "source": [
        "np.unique(Y_train)"
      ],
      "metadata": {
        "colab": {
          "base_uri": "https://localhost:8080/"
        },
        "id": "XmBgQfv2bzQJ",
        "outputId": "7271e5b1-fa24-483a-8dd7-d70615a55765"
      },
      "execution_count": null,
      "outputs": [
        {
          "output_type": "execute_result",
          "data": {
            "text/plain": [
              "array([0, 1, 2, 3, 4, 5, 6, 7, 8, 9], dtype=uint8)"
            ]
          },
          "metadata": {},
          "execution_count": 6
        }
      ]
    },
    {
      "cell_type": "code",
      "source": [
        "Y_train_one_hot_encoding = keras.utils.to_categorical(Y_train,\n",
        "                                                      num_classes=len(np.unique(Y_train))\n",
        "                                                      )\n",
        "Y_val_one_hot_encoding = keras.utils.to_categorical(Y_val,\n",
        "                                                    num_classes=len(np.unique(Y_val))\n",
        "                                                    )\n",
        "y_test_one_hot_encoding = keras.utils.to_categorical(y_test,\n",
        "                                                    num_classes=len(np.unique(y_test))\n",
        "                                                    )"
      ],
      "metadata": {
        "id": "hqruU6sUchDY"
      },
      "execution_count": null,
      "outputs": []
    },
    {
      "cell_type": "code",
      "source": [
        "print('Dữ liệu y ban đầu ', Y_train[0])\n",
        "print('Dữ liệu y sau one-hot encoding ',Y_train_one_hot_encoding[0])"
      ],
      "metadata": {
        "colab": {
          "base_uri": "https://localhost:8080/"
        },
        "id": "3ZOSDRbfd-0J",
        "outputId": "73104d59-86aa-410a-fd23-88c44f4daee9"
      },
      "execution_count": null,
      "outputs": [
        {
          "output_type": "stream",
          "name": "stdout",
          "text": [
            "Dữ liệu y ban đầu  [6]\n",
            "Dữ liệu y sau one-hot encoding  [0. 0. 0. 0. 0. 0. 1. 0. 0. 0.]\n"
          ]
        }
      ]
    },
    {
      "cell_type": "code",
      "source": [
        "input_shape = X_train.shape[1:]\n",
        "output_node = len(np.unique(Y_train))"
      ],
      "metadata": {
        "id": "B38Pikghfo5I"
      },
      "execution_count": null,
      "outputs": []
    },
    {
      "cell_type": "code",
      "source": [
        "model = keras.Sequential(name=\"PLA_Simple_CNN\")\n",
        "\n",
        "# Thêm Convolutional layer\n",
        "# dùng hàm activation và chỉ rõ input_shape cho layer đầu tiên\n",
        "model.add(keras.layers.Conv2D(64,(3, 3),activation='ReLU',input_shape=input_shape))\n",
        "\n",
        "for i in range(2):\n",
        "  # Thêm Convolutional layer\n",
        "  model.add(keras.layers.Conv2D(64,(3, 3),activation='ReLU'))\n",
        "  # Thêm Max pooling layer\n",
        "  model.add(keras.layers.MaxPooling2D(pool_size=(3,3)))\n",
        "  model.add(keras.layers.BatchNormalization())\n",
        "  model.add(keras.layers.Dropout(0.3))\n",
        "\n",
        "# Flatten layer chuyển từ tensor sang vector\n",
        "model.add(keras.layers.Flatten())\n",
        "\n",
        "# Thêm Fully Connected layer\n",
        "model.add(keras.layers.Dense(512,activation='ReLU'))\n",
        "model.add(keras.layers.BatchNormalization())\n",
        "model.add(keras.layers.Dropout(0.3))\n",
        "\n",
        "# Output layer với 10 node và dùng softmax function để chuyển sang xác xuất.\n",
        "model.add(keras.layers.Dense(output_node, activation='softmax'))\n",
        "\n",
        "#Compile model, chỉ rõ hàm loss_function nào được sử dụng, phương thức \n",
        "# đùng để tối ưu hàm loss function.\n",
        "model.compile(loss='categorical_crossentropy',optimizer='adam',metrics=['accuracy'])\n",
        "model.summary()"
      ],
      "metadata": {
        "colab": {
          "base_uri": "https://localhost:8080/"
        },
        "id": "VAo12c10eFA1",
        "outputId": "6a3cfd5b-ef68-4d03-e8a8-8562d942a4ed"
      },
      "execution_count": null,
      "outputs": [
        {
          "output_type": "stream",
          "name": "stdout",
          "text": [
            "Model: \"PLA_Simple_CNN\"\n",
            "_________________________________________________________________\n",
            " Layer (type)                Output Shape              Param #   \n",
            "=================================================================\n",
            " conv2d_68 (Conv2D)          (None, 30, 30, 64)        1792      \n",
            "                                                                 \n",
            " conv2d_69 (Conv2D)          (None, 28, 28, 64)        36928     \n",
            "                                                                 \n",
            " max_pooling2d_36 (MaxPoolin  (None, 9, 9, 64)         0         \n",
            " g2D)                                                            \n",
            "                                                                 \n",
            " batch_normalization_26 (Bat  (None, 9, 9, 64)         256       \n",
            " chNormalization)                                                \n",
            "                                                                 \n",
            " dropout_28 (Dropout)        (None, 9, 9, 64)          0         \n",
            "                                                                 \n",
            " conv2d_70 (Conv2D)          (None, 7, 7, 64)          36928     \n",
            "                                                                 \n",
            " max_pooling2d_37 (MaxPoolin  (None, 2, 2, 64)         0         \n",
            " g2D)                                                            \n",
            "                                                                 \n",
            " batch_normalization_27 (Bat  (None, 2, 2, 64)         256       \n",
            " chNormalization)                                                \n",
            "                                                                 \n",
            " dropout_29 (Dropout)        (None, 2, 2, 64)          0         \n",
            "                                                                 \n",
            " flatten_22 (Flatten)        (None, 256)               0         \n",
            "                                                                 \n",
            " dense_46 (Dense)            (None, 512)               131584    \n",
            "                                                                 \n",
            " batch_normalization_28 (Bat  (None, 512)              2048      \n",
            " chNormalization)                                                \n",
            "                                                                 \n",
            " dropout_30 (Dropout)        (None, 512)               0         \n",
            "                                                                 \n",
            " dense_47 (Dense)            (None, 10)                5130      \n",
            "                                                                 \n",
            "=================================================================\n",
            "Total params: 214,922\n",
            "Trainable params: 213,642\n",
            "Non-trainable params: 1,280\n",
            "_________________________________________________________________\n"
          ]
        }
      ]
    },
    {
      "cell_type": "code",
      "source": [
        "history = model.fit(X_train, Y_train_one_hot_encoding, validation_data=(X_val, Y_val_one_hot_encoding),\n",
        "          batch_size=32, epochs=10, verbose=1)"
      ],
      "metadata": {
        "colab": {
          "base_uri": "https://localhost:8080/"
        },
        "id": "BI91CLGkhha7",
        "outputId": "65045d31-b8cf-4ee9-88e9-4ead63daf35b"
      },
      "execution_count": null,
      "outputs": [
        {
          "output_type": "stream",
          "name": "stdout",
          "text": [
            "Epoch 1/10\n",
            "1250/1250 [==============================] - 7s 5ms/step - loss: 0.8683 - accuracy: 0.6972 - val_loss: 0.7393 - val_accuracy: 0.7444\n",
            "Epoch 2/10\n",
            "1250/1250 [==============================] - 7s 5ms/step - loss: 0.8472 - accuracy: 0.7030 - val_loss: 0.7726 - val_accuracy: 0.7358\n",
            "Epoch 3/10\n",
            "1250/1250 [==============================] - 7s 5ms/step - loss: 0.8270 - accuracy: 0.7093 - val_loss: 0.7421 - val_accuracy: 0.7443\n",
            "Epoch 4/10\n",
            "1250/1250 [==============================] - 6s 5ms/step - loss: 0.8192 - accuracy: 0.7158 - val_loss: 0.7489 - val_accuracy: 0.7401\n",
            "Epoch 5/10\n",
            "1250/1250 [==============================] - 7s 5ms/step - loss: 0.8112 - accuracy: 0.7164 - val_loss: 0.7515 - val_accuracy: 0.7379\n",
            "Epoch 6/10\n",
            "1250/1250 [==============================] - 7s 5ms/step - loss: 0.7883 - accuracy: 0.7242 - val_loss: 0.7281 - val_accuracy: 0.7479\n",
            "Epoch 7/10\n",
            "1250/1250 [==============================] - 7s 5ms/step - loss: 0.7817 - accuracy: 0.7273 - val_loss: 0.6973 - val_accuracy: 0.7599\n",
            "Epoch 8/10\n",
            "1250/1250 [==============================] - 7s 5ms/step - loss: 0.7711 - accuracy: 0.7302 - val_loss: 0.6979 - val_accuracy: 0.7599\n",
            "Epoch 9/10\n",
            "1250/1250 [==============================] - 7s 5ms/step - loss: 0.7621 - accuracy: 0.7340 - val_loss: 0.7556 - val_accuracy: 0.7442\n",
            "Epoch 10/10\n",
            "1250/1250 [==============================] - 6s 5ms/step - loss: 0.7600 - accuracy: 0.7357 - val_loss: 0.7369 - val_accuracy: 0.7474\n"
          ]
        }
      ]
    },
    {
      "cell_type": "code",
      "source": [
        "fig = plt.figure()\n",
        "numOfEpoch = 10\n",
        "plt.plot(np.arange(0, numOfEpoch), history.history['loss'], label='training loss')\n",
        "plt.plot(np.arange(0, numOfEpoch), history.history['accuracy'], label='accuracy')\n",
        "plt.title('Accuracy and Loss')\n",
        "plt.xlabel('Epoch')\n",
        "plt.ylabel('Loss|Accuracy')\n",
        "plt.legend()"
      ],
      "metadata": {
        "colab": {
          "base_uri": "https://localhost:8080/",
          "height": 312
        },
        "id": "jjdvISE5msKt",
        "outputId": "c53d1890-192d-48d6-b591-f950716f3c73"
      },
      "execution_count": null,
      "outputs": [
        {
          "output_type": "execute_result",
          "data": {
            "text/plain": [
              "<matplotlib.legend.Legend at 0x7f38b81e30d0>"
            ]
          },
          "metadata": {},
          "execution_count": 86
        },
        {
          "output_type": "display_data",
          "data": {
            "text/plain": [
              "<Figure size 432x288 with 1 Axes>"
            ],
            "image/png": "[encoded data removed]"
          },
          "metadata": {
            "needs_background": "light"
          }
        }
      ]
    },
    {
      "cell_type": "code",
      "source": [
        "score = model.evaluate(x_test, y_test_one_hot_encoding, verbose = 0)\n",
        "print(score)"
      ],
      "metadata": {
        "colab": {
          "base_uri": "https://localhost:8080/"
        },
        "id": "uZFnZksQix9e",
        "outputId": "ec8cf869-eba6-45ff-ce17-65a327b079eb"
      },
      "execution_count": null,
      "outputs": [
        {
          "output_type": "stream",
          "name": "stdout",
          "text": [
            "[0.7531647682189941, 0.7398999929428101]\n"
          ]
        }
      ]
    },
    {
      "cell_type": "code",
      "source": [
        "a = 0\n",
        "plt.imshow(x_test[a], cmap='gray')\n",
        "y_predict = model.predict(x_test[a].reshape(1,32,32,3))\n",
        "print('Giá trị dự đoán: ', np.argmax(y_predict))"
      ],
      "metadata": {
        "colab": {
          "base_uri": "https://localhost:8080/",
          "height": 283
        },
        "id": "nKFRN3spjFRa",
        "outputId": "7fa33315-bc5c-4dbf-8a36-237ddae47147"
      },
      "execution_count": null,
      "outputs": [
        {
          "output_type": "stream",
          "name": "stdout",
          "text": [
            "Giá trị dự đoán:  3\n"
          ]
        },
        {
          "output_type": "display_data",
          "data": {
            "text/plain": [
              "<Figure size 432x288 with 1 Axes>"
            ],
            "image/png": "[encoded data removed]"
          },
          "metadata": {
            "needs_background": "light"
          }
        }
      ]
    }
  ]
}